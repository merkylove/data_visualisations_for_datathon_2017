{
 "cells": [
  {
   "cell_type": "code",
   "execution_count": 1,
   "metadata": {},
   "outputs": [],
   "source": [
    "import plotly.plotly as py\n",
    "import plotly.graph_objs as go"
   ]
  },
  {
   "cell_type": "code",
   "execution_count": 2,
   "metadata": {
    "collapsed": true
   },
   "outputs": [],
   "source": [
    "import numpy as np\n",
    "import scipy\n",
    "from sklearn.metrics import roc_curve"
   ]
  },
  {
   "cell_type": "code",
   "execution_count": 3,
   "metadata": {
    "collapsed": true
   },
   "outputs": [],
   "source": [
    "import pandas as pd"
   ]
  },
  {
   "cell_type": "code",
   "execution_count": 4,
   "metadata": {
    "collapsed": true
   },
   "outputs": [],
   "source": [
    "py.sign_in(username=\"merkylove\", api_key=\"ToUWvpSkKJ4IOPuiNlUk\")"
   ]
  },
  {
   "cell_type": "code",
   "execution_count": 5,
   "metadata": {
    "collapsed": true
   },
   "outputs": [],
   "source": [
    "def cheat_labels(predictions):\n",
    "    labels_ = []\n",
    "    \n",
    "    for i in predictions:\n",
    "        if i > 0.9: \n",
    "            labels_.append(1)\n",
    "        elif i > 0.6:\n",
    "            r = scipy.random.uniform()\n",
    "            if r > 0.25:\n",
    "                labels_.append(1)\n",
    "            else:\n",
    "                labels_.append(round(scipy.random.uniform()))\n",
    "        else:\n",
    "            labels_.append(round(scipy.random.uniform()))\n",
    "    \n",
    "    return labels_"
   ]
  },
  {
   "cell_type": "code",
   "execution_count": 6,
   "metadata": {},
   "outputs": [],
   "source": [
    "predictions = scipy.random.uniform(size=1000)\n",
    "labels = np.round(scipy.random.uniform(size=1000))\n",
    "\n",
    "cheating_labels = cheat_labels(predictions)"
   ]
  },
  {
   "cell_type": "code",
   "execution_count": 7,
   "metadata": {
    "collapsed": true
   },
   "outputs": [],
   "source": [
    "def my_roc_curve(y_true, y_proba):\n",
    "    m_pos = sum(y_true)\n",
    "    m_neg = len(y_true) - m_pos\n",
    "    proba_label = sorted(zip(y_proba, y_true), key=lambda x: x[0], reverse=True)\n",
    "    \n",
    "    fpr = [0.0]\n",
    "    tpr = [0.0]\n",
    "    \n",
    "    for i in proba_label:\n",
    "        if i[1] <= 0.5:\n",
    "            fpr.append(fpr[-1] + 1.0 / m_neg)\n",
    "            tpr.append(tpr[-1])\n",
    "        else:\n",
    "            fpr.append(fpr[-1])\n",
    "            tpr.append(tpr[-1] + 1.0 / m_pos)\n",
    "    \n",
    "    return fpr + [1.0], tpr + [1.0]"
   ]
  },
  {
   "cell_type": "code",
   "execution_count": 8,
   "metadata": {},
   "outputs": [],
   "source": [
    "fpr, tpr = my_roc_curve(labels, predictions)\n",
    "fpr2, tpr2 = my_roc_curve(cheating_labels, predictions)"
   ]
  },
  {
   "cell_type": "code",
   "execution_count": 9,
   "metadata": {},
   "outputs": [
    {
     "name": "stdout",
     "output_type": "stream",
     "text": [
      "High five! You successfuly sent some data to your account on plotly. View your plot in your browser at https://plot.ly/~merkylove/0 or inside your plot.ly account where it is named 'basic-line'\n"
     ]
    },
    {
     "data": {
      "text/html": [
       "<iframe id=\"igraph\" scrolling=\"no\" style=\"border:none;\" seamless=\"seamless\" src=\"https://plot.ly/~merkylove/0.embed\" height=\"525px\" width=\"100%\"></iframe>"
      ],
      "text/plain": [
       "<plotly.tools.PlotlyDisplay object>"
      ]
     },
     "execution_count": 9,
     "metadata": {},
     "output_type": "execute_result"
    }
   ],
   "source": [
    "predictions.sort()\n",
    "\n",
    "trace = go.Scatter(\n",
    "    x = fpr,\n",
    "    y = tpr,\n",
    "    hovertext = ['<b>{}</b>'.format(p) for p in predictions[::-1]], # Style name/legend entry with html tags\n",
    "    connectgaps=True,\n",
    ")\n",
    "\n",
    "data = [trace]\n",
    "\n",
    "py.iplot(data, filename='basic-line')"
   ]
  },
  {
   "cell_type": "code",
   "execution_count": 10,
   "metadata": {},
   "outputs": [
    {
     "name": "stdout",
     "output_type": "stream",
     "text": [
      "High five! You successfuly sent some data to your account on plotly. View your plot in your browser at https://plot.ly/~merkylove/0 or inside your plot.ly account where it is named 'basic-line'\n"
     ]
    },
    {
     "data": {
      "text/html": [
       "<iframe id=\"igraph\" scrolling=\"no\" style=\"border:none;\" seamless=\"seamless\" src=\"https://plot.ly/~merkylove/0.embed\" height=\"525px\" width=\"100%\"></iframe>"
      ],
      "text/plain": [
       "<plotly.tools.PlotlyDisplay object>"
      ]
     },
     "execution_count": 10,
     "metadata": {},
     "output_type": "execute_result"
    }
   ],
   "source": [
    "predictions.sort()\n",
    "\n",
    "trace = go.Scatter(\n",
    "    x = fpr2,\n",
    "    y = tpr2,\n",
    "    hovertext = ['<b>{}</b>'.format(p) for p in predictions[::-1]], # Style name/legend entry with html tags\n",
    "    connectgaps=True,\n",
    ")\n",
    "\n",
    "data = [trace]\n",
    "\n",
    "py.iplot(data, filename='basic-line')"
   ]
  },
  {
   "cell_type": "code",
   "execution_count": null,
   "metadata": {
    "collapsed": true
   },
   "outputs": [],
   "source": []
  }
 ],
 "metadata": {
  "kernelspec": {
   "display_name": "Python 2",
   "language": "python",
   "name": "python2"
  },
  "language_info": {
   "codemirror_mode": {
    "name": "ipython",
    "version": 2
   },
   "file_extension": ".py",
   "mimetype": "text/x-python",
   "name": "python",
   "nbconvert_exporter": "python",
   "pygments_lexer": "ipython2",
   "version": "2.7.13"
  }
 },
 "nbformat": 4,
 "nbformat_minor": 2
}
