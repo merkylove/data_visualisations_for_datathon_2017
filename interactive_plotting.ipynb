{
 "cells": [
  {
   "cell_type": "code",
   "execution_count": 1,
   "metadata": {
    "collapsed": true
   },
   "outputs": [],
   "source": [
    "%matplotlib inline\n",
    "import numpy as np\n",
    "import scipy\n",
    "import matplotlib.pyplot as plt\n",
    "from IPython.display import display, clear_output\n",
    "from ipywidgets import FloatSlider, IntSlider, Dropdown, interactive\n",
    "\n",
    "plt.style.use(\"ggplot\")"
   ]
  },
  {
   "cell_type": "code",
   "execution_count": 2,
   "metadata": {
    "collapsed": true
   },
   "outputs": [],
   "source": [
    "def simulate_ar_1(alpha, n):\n",
    "    initial_value = scipy.random.normal()\n",
    "    y = [initial_value]\n",
    "    for i in xrange(1, n):\n",
    "        y.append(alpha*y[i-1] + scipy.random.normal())\n",
    "    return y"
   ]
  },
  {
   "cell_type": "code",
   "execution_count": 3,
   "metadata": {
    "collapsed": true
   },
   "outputs": [],
   "source": [
    "def simulate_ma_1(alpha, n):\n",
    "    initial_value = scipy.random.normal()\n",
    "    epsilon_prev = initial_value\n",
    "    y = [initial_value]\n",
    "    for i in xrange(1, n):\n",
    "        epsilon = scipy.random.normal()\n",
    "        y.append(alpha * epsilon_prev + epsilon)\n",
    "        epsilon_prev = epsilon\n",
    "    return y"
   ]
  },
  {
   "cell_type": "code",
   "execution_count": 4,
   "metadata": {
    "collapsed": true
   },
   "outputs": [],
   "source": [
    "AR = \"AR\"\n",
    "MA = \"MA\""
   ]
  },
  {
   "cell_type": "code",
   "execution_count": 5,
   "metadata": {
    "collapsed": true
   },
   "outputs": [],
   "source": [
    "def update(alpha, n, choice):\n",
    "    f = None\n",
    "    \n",
    "    if choice == AR:\n",
    "        f = simulate_ar_1\n",
    "    elif choice == MA:\n",
    "        f = simulate_ma_1\n",
    "    \n",
    "    fig = plt.figure(figsize=(15,15))\n",
    "    plt.plot(f(alpha=alpha, n=n))\n",
    "    plt.title(\"{}(1) with alpha={}\".format(choice, alpha))\n",
    "    plt.show()"
   ]
  },
  {
   "cell_type": "code",
   "execution_count": 6,
   "metadata": {
    "collapsed": true
   },
   "outputs": [],
   "source": [
    "alpha_slider = FloatSlider(min=-2.0, max=2.0, step=0.01, value=0.5)\n",
    "n_slider = IntSlider(min=1, max=1000, step=1, value=100)\n",
    "choice = Dropdown(options=[AR, MA], value=AR, description='Process Type')\n",
    "widget=interactive(update, alpha=alpha_slider, n=n_slider, choice=choice)"
   ]
  },
  {
   "cell_type": "code",
   "execution_count": 7,
   "metadata": {},
   "outputs": [
    {
     "data": {
      "application/vnd.jupyter.widget-view+json": {
       "model_id": "facce7b53eaa41f6ba43aef46839da20"
      }
     },
     "metadata": {},
     "output_type": "display_data"
    }
   ],
   "source": [
    "display(widget)"
   ]
  },
  {
   "cell_type": "code",
   "execution_count": null,
   "metadata": {
    "collapsed": true
   },
   "outputs": [],
   "source": []
  }
 ],
 "metadata": {
  "kernelspec": {
   "display_name": "Python 2",
   "language": "python",
   "name": "python2"
  },
  "language_info": {
   "codemirror_mode": {
    "name": "ipython",
    "version": 2
   },
   "file_extension": ".py",
   "mimetype": "text/x-python",
   "name": "python",
   "nbconvert_exporter": "python",
   "pygments_lexer": "ipython2",
   "version": "2.7.13"
  }
 },
 "nbformat": 4,
 "nbformat_minor": 2
}
